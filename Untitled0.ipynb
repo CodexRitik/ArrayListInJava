{
  "nbformat": 4,
  "nbformat_minor": 0,
  "metadata": {
    "colab": {
      "name": "Untitled0.ipynb",
      "provenance": [],
      "authorship_tag": "ABX9TyP9mJgFqUzzWA39uHX3SQiW",
      "include_colab_link": true
    },
    "kernelspec": {
      "name": "python3",
      "display_name": "Python 3"
    },
    "language_info": {
      "name": "python"
    }
  },
  "cells": [
    {
      "cell_type": "markdown",
      "metadata": {
        "id": "view-in-github",
        "colab_type": "text"
      },
      "source": [
        "<a href=\"https://colab.research.google.com/github/CodexRitik/ArrayListInJava/blob/main/Untitled0.ipynb\" target=\"_parent\"><img src=\"https://colab.research.google.com/assets/colab-badge.svg\" alt=\"Open In Colab\"/></a>"
      ]
    },
    {
      "cell_type": "code",
      "metadata": {
        "colab": {
          "base_uri": "https://localhost:8080/"
        },
        "id": "KrDLCVZ0bt6x",
        "outputId": "81830197-665e-4eaa-ce6b-64eb8379ec24"
      },
      "source": [
        "import pandas as pd\n",
        "import numpy as np\n",
        "import matplotlib.pyplot as plt\n",
        "def slope_intercept(x1,y1,x2,y2):\n",
        "    a = (y2 - y1) / (x2 - x1)\n",
        "    b = y1 - a * x1     \n",
        "    return a,b\n",
        "m,c = slope_intercept(3,5,9,10)\n",
        "print(slope_intercept(3,5,9,10))\n",
        "print(\"Equation of line : y = {0:.2f}.x + {1}\".format(m,c))"
      ],
      "execution_count": 4,
      "outputs": [
        {
          "output_type": "stream",
          "name": "stdout",
          "text": [
            "(0.8333333333333334, 2.5)\n",
            "Equation of line : y = 0.83.x + 2.5\n"
          ]
        }
      ]
    },
    {
      "cell_type": "code",
      "metadata": {
        "colab": {
          "base_uri": "https://localhost:8080/",
          "height": 282
        },
        "id": "IQiSWga2eS0N",
        "outputId": "fa80e786-2479-4e05-90db-faeff2f419a8"
      },
      "source": [
        "# X : 2, 3, 5, 9, 7, 11, 10.5\n",
        "# Y : 3, 5, 9, 10, 6,5, 11.8, ?\n",
        "X =[ 2, 3, 5, 9, 11]\n",
        "Y =[ 3, 5, 9, 10, 12 ] \n",
        "\n",
        "# Ploting Line\n",
        "plt.scatter(X,Y,label='Scatter plot')\n",
        "plt.plot(X,Y,label='Line')"
      ],
      "execution_count": 5,
      "outputs": [
        {
          "output_type": "execute_result",
          "data": {
            "text/plain": [
              "[<matplotlib.lines.Line2D at 0x7f93cf5eee50>]"
            ]
          },
          "metadata": {},
          "execution_count": 5
        },
        {
          "output_type": "display_data",
          "data": {
            "image/png": "[encoded data removed]",
            "text/plain": [
              "<Figure size 432x288 with 1 Axes>"
            ]
          },
          "metadata": {
            "needs_background": "light"
          }
        }
      ]
    },
    {
      "cell_type": "markdown",
      "metadata": {
        "id": "M9E4C92vfki5"
      },
      "source": [
        "If there is multiple points then we use least Square Method"
      ]
    },
    {
      "cell_type": "code",
      "metadata": {
        "colab": {
          "base_uri": "https://localhost:8080/",
          "height": 300
        },
        "id": "udmvPnDtiHWf",
        "outputId": "2aeb9eef-54ef-4476-9a7b-912c7e3dc9a4"
      },
      "source": [
        "X = [171,151,124,134,156] #height\n",
        "Y = [80,60,45,50,65] #weight\n",
        "# Calculating coefficient\n",
        "\n",
        "# Mean X and Y\n",
        "mean_x = np.mean(X)\n",
        "mean_y = np.mean(Y)\n",
        "\n",
        "# Total number of values\n",
        "n = len(X)\n",
        "# Using the formula to calculate b1 and b0\n",
        "numer = 0\n",
        "denom = 0\n",
        "for i in range(n):\n",
        "    numer += (X[i] - mean_x) * (Y[i] - mean_y)\n",
        "    denom += (X[i] - mean_x) ** 2\n",
        "b1 = numer / denom\n",
        "b0 = mean_y - (b1 * mean_x)\n",
        "\n",
        "# Printing coefficients\n",
        "print(\"Coefficients\")\n",
        "print(b1, b0)\n",
        "\n",
        "#X = np.linspace(min_x,max_x,100)\n",
        "y = []\n",
        "for i in range(5):\n",
        "  y.append(b0+b1*Y[i])\n",
        "\n",
        "plt.scatter(X,Y,color='#ef5423',label = 'Scatter Plot')\n",
        "plt.plot(X,y,color='#58b970',label = 'Regression Line')\n",
        "plt.legend()\n",
        "plt.show()\n",
        "\n",
        "\n",
        "\n"
      ],
      "execution_count": 26,
      "outputs": [
        {
          "output_type": "stream",
          "name": "stdout",
          "text": [
            "Coefficients\n",
            "0.7295010213014298 -47.38255033557046\n"
          ]
        },
        {
          "output_type": "display_data",
          "data": {
            "image/png": "[encoded data removed]",
            "text/plain": [
              "<Figure size 432x288 with 1 Axes>"
            ]
          },
          "metadata": {
            "needs_background": "light"
          }
        }
      ]
    },
    {
      "cell_type": "code",
      "metadata": {
        "colab": {
          "base_uri": "https://localhost:8080/",
          "height": 526
        },
        "id": "6CSdFYLconK7",
        "outputId": "a5bcba31-deca-4650-b15e-b48befb6ac67"
      },
      "source": [
        "df = pd.read_csv(\"headbrain.csv\")\n",
        "print(df)\n",
        "X = df[\"Head Size(cm^3)\"]\n",
        "Y = df[\"Brain Weight(grams)\"]\n",
        "mean_x = np.mean(X)\n",
        "mean_y = np.mean(Y)\n",
        "plt.scatter(X,Y)"
      ],
      "execution_count": 30,
      "outputs": [
        {
          "output_type": "stream",
          "name": "stdout",
          "text": [
            "     Gender  Age Range  Head Size(cm^3)  Brain Weight(grams)\n",
            "0         1          1             4512                 1530\n",
            "1         1          1             3738                 1297\n",
            "2         1          1             4261                 1335\n",
            "3         1          1             3777                 1282\n",
            "4         1          1             4177                 1590\n",
            "..      ...        ...              ...                  ...\n",
            "232       2          2             3214                 1110\n",
            "233       2          2             3394                 1215\n",
            "234       2          2             3233                 1104\n",
            "235       2          2             3352                 1170\n",
            "236       2          2             3391                 1120\n",
            "\n",
            "[237 rows x 4 columns]\n"
          ]
        },
        {
          "output_type": "execute_result",
          "data": {
            "text/plain": [
              "<matplotlib.collections.PathCollection at 0x7f93ca7241d0>"
            ]
          },
          "metadata": {},
          "execution_count": 30
        },
        {
          "output_type": "display_data",
          "data": {
            "image/png": "[encoded data removed]",
            "text/plain": [
              "<Figure size 432x288 with 1 Axes>"
            ]
          },
          "metadata": {
            "needs_background": "light"
          }
        }
      ]
    }
  ]
}